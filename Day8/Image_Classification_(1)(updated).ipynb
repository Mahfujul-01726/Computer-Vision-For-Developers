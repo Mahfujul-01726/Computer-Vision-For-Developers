{
  "nbformat": 4,
  "nbformat_minor": 0,
  "metadata": {
    "colab": {
      "provenance": [],
      "gpuType": "T4"
    },
    "kernelspec": {
      "name": "python3",
      "display_name": "Python 3"
    },
    "language_info": {
      "name": "python"
    },
    "accelerator": "GPU"
  },
  "cells": [
    {
      "cell_type": "code",
      "execution_count": null,
      "metadata": {
        "colab": {
          "base_uri": "https://localhost:8080/"
        },
        "id": "xF4ZLhAF_1Zm",
        "outputId": "2c741827-c6b7-4bda-d047-bed361fa36ce"
      },
      "outputs": [
        {
          "output_type": "stream",
          "name": "stdout",
          "text": [
            "Sun May 11 17:03:16 2025       \n",
            "+-----------------------------------------------------------------------------------------+\n",
            "| NVIDIA-SMI 550.54.15              Driver Version: 550.54.15      CUDA Version: 12.4     |\n",
            "|-----------------------------------------+------------------------+----------------------+\n",
            "| GPU  Name                 Persistence-M | Bus-Id          Disp.A | Volatile Uncorr. ECC |\n",
            "| Fan  Temp   Perf          Pwr:Usage/Cap |           Memory-Usage | GPU-Util  Compute M. |\n",
            "|                                         |                        |               MIG M. |\n",
            "|=========================================+========================+======================|\n",
            "|   0  Tesla T4                       Off |   00000000:00:04.0 Off |                    0 |\n",
            "| N/A   45C    P8              9W /   70W |       0MiB /  15360MiB |      0%      Default |\n",
            "|                                         |                        |                  N/A |\n",
            "+-----------------------------------------+------------------------+----------------------+\n",
            "                                                                                         \n",
            "+-----------------------------------------------------------------------------------------+\n",
            "| Processes:                                                                              |\n",
            "|  GPU   GI   CI        PID   Type   Process name                              GPU Memory |\n",
            "|        ID   ID                                                               Usage      |\n",
            "|=========================================================================================|\n",
            "|  No running processes found                                                             |\n",
            "+-----------------------------------------------------------------------------------------+\n"
          ]
        }
      ],
      "source": [
        "!nvidia-smi"
      ]
    },
    {
      "cell_type": "code",
      "source": [
        "!mkdir -p ~/.kaggle\n",
        "!cp kaggle.json ~/.kaggle/"
      ],
      "metadata": {
        "id": "lpLMPE1LxTGH"
      },
      "execution_count": 2,
      "outputs": []
    },
    {
      "cell_type": "code",
      "source": [
        "!kaggle datasets download -d samuelcortinhas/apples-or-tomatoes-image-classification"
      ],
      "metadata": {
        "colab": {
          "base_uri": "https://localhost:8080/"
        },
        "id": "B7bESKIExdan",
        "outputId": "c5f16ad4-e73c-41ec-8163-bf3061fc8f24"
      },
      "execution_count": 3,
      "outputs": [
        {
          "output_type": "stream",
          "name": "stdout",
          "text": [
            "Warning: Your Kaggle API key is readable by other users on this system! To fix this, you can run 'chmod 600 /root/.kaggle/kaggle.json'\n",
            "Dataset URL: https://www.kaggle.com/datasets/samuelcortinhas/apples-or-tomatoes-image-classification\n",
            "License(s): CC0-1.0\n",
            "Downloading apples-or-tomatoes-image-classification.zip to /content\n",
            "  0% 0.00/2.33M [00:00<?, ?B/s]\n",
            "100% 2.33M/2.33M [00:00<00:00, 831MB/s]\n"
          ]
        }
      ]
    },
    {
      "cell_type": "code",
      "source": [
        "!unzip /content/apples-or-tomatoes-image-classification.zip"
      ],
      "metadata": {
        "colab": {
          "base_uri": "https://localhost:8080/"
        },
        "id": "MZVA6W6kAEf2",
        "outputId": "5f081f3e-5405-440d-ccb6-0c49eb3a1035"
      },
      "execution_count": 4,
      "outputs": [
        {
          "output_type": "stream",
          "name": "stdout",
          "text": [
            "Archive:  /content/apples-or-tomatoes-image-classification.zip\n",
            "  inflating: test/apples/img_p1_111.jpeg  \n",
            "  inflating: test/apples/img_p1_121.jpeg  \n",
            "  inflating: test/apples/img_p1_127.jpeg  \n",
            "  inflating: test/apples/img_p1_131.jpeg  \n",
            "  inflating: test/apples/img_p1_133.jpeg  \n",
            "  inflating: test/apples/img_p1_139.jpeg  \n",
            "  inflating: test/apples/img_p1_14.jpeg  \n",
            "  inflating: test/apples/img_p1_143.jpeg  \n",
            "  inflating: test/apples/img_p1_15.jpeg  \n",
            "  inflating: test/apples/img_p1_16.jpeg  \n",
            "  inflating: test/apples/img_p1_29.jpeg  \n",
            "  inflating: test/apples/img_p1_30.jpeg  \n",
            "  inflating: test/apples/img_p1_33.jpeg  \n",
            "  inflating: test/apples/img_p1_34.jpeg  \n",
            "  inflating: test/apples/img_p1_36.jpeg  \n",
            "  inflating: test/apples/img_p1_50.jpeg  \n",
            "  inflating: test/apples/img_p1_52.jpeg  \n",
            "  inflating: test/apples/img_p1_55.jpeg  \n",
            "  inflating: test/apples/img_p1_68.jpeg  \n",
            "  inflating: test/apples/img_p1_7.jpeg  \n",
            "  inflating: test/apples/img_p1_70.jpeg  \n",
            "  inflating: test/apples/img_p1_74.jpeg  \n",
            "  inflating: test/apples/img_p1_76.jpeg  \n",
            "  inflating: test/apples/img_p1_8.jpeg  \n",
            "  inflating: test/apples/img_p1_82.jpeg  \n",
            "  inflating: test/apples/img_p1_84.jpeg  \n",
            "  inflating: test/apples/img_p1_88.jpeg  \n",
            "  inflating: test/apples/img_p1_9.jpeg  \n",
            "  inflating: test/apples/img_p1_90.jpeg  \n",
            "  inflating: test/apples/img_p1_94.jpeg  \n",
            "  inflating: test/apples/img_p1_98.jpeg  \n",
            "  inflating: test/apples/img_p2_106.jpeg  \n",
            "  inflating: test/apples/img_p2_114.jpeg  \n",
            "  inflating: test/apples/img_p2_116.jpeg  \n",
            "  inflating: test/apples/img_p2_12.jpeg  \n",
            "  inflating: test/apples/img_p2_13.jpeg  \n",
            "  inflating: test/apples/img_p2_28.jpeg  \n",
            "  inflating: test/apples/img_p2_35.jpeg  \n",
            "  inflating: test/apples/img_p2_41.jpeg  \n",
            "  inflating: test/apples/img_p2_45.jpeg  \n",
            "  inflating: test/apples/img_p2_84.jpeg  \n",
            "  inflating: test/apples/img_p3_105.jpeg  \n",
            "  inflating: test/apples/img_p3_11.jpeg  \n",
            "  inflating: test/apples/img_p3_111.jpeg  \n",
            "  inflating: test/apples/img_p3_12.jpeg  \n",
            "  inflating: test/apples/img_p3_25.jpeg  \n",
            "  inflating: test/apples/img_p3_44.jpeg  \n",
            "  inflating: test/apples/img_p3_50.jpeg  \n",
            "  inflating: test/apples/img_p3_6.jpeg  \n",
            "  inflating: test/apples/img_p3_68.jpeg  \n",
            "  inflating: test/apples/img_p3_79.jpeg  \n",
            "  inflating: test/apples/img_p3_8.jpeg  \n",
            "  inflating: test/apples/img_p3_86.jpeg  \n",
            "  inflating: test/apples/img_p3_88.jpeg  \n",
            "  inflating: test/tomatoes/img_p1_105.jpeg  \n",
            "  inflating: test/tomatoes/img_p1_107.jpeg  \n",
            "  inflating: test/tomatoes/img_p1_15.jpeg  \n",
            "  inflating: test/tomatoes/img_p1_19.jpeg  \n",
            "  inflating: test/tomatoes/img_p1_22.jpeg  \n",
            "  inflating: test/tomatoes/img_p1_24.jpeg  \n",
            "  inflating: test/tomatoes/img_p1_25.jpeg  \n",
            "  inflating: test/tomatoes/img_p1_33.jpeg  \n",
            "  inflating: test/tomatoes/img_p1_43.jpeg  \n",
            "  inflating: test/tomatoes/img_p1_51.jpeg  \n",
            "  inflating: test/tomatoes/img_p1_53.jpeg  \n",
            "  inflating: test/tomatoes/img_p1_58.jpeg  \n",
            "  inflating: test/tomatoes/img_p1_82.jpeg  \n",
            "  inflating: test/tomatoes/img_p1_88.jpeg  \n",
            "  inflating: test/tomatoes/img_p1_9.jpeg  \n",
            "  inflating: test/tomatoes/img_p1_92.jpeg  \n",
            "  inflating: test/tomatoes/img_p2_110.jpeg  \n",
            "  inflating: test/tomatoes/img_p2_17.jpeg  \n",
            "  inflating: test/tomatoes/img_p2_24.jpeg  \n",
            "  inflating: test/tomatoes/img_p2_28.jpeg  \n",
            "  inflating: test/tomatoes/img_p2_49.jpeg  \n",
            "  inflating: test/tomatoes/img_p2_55.jpeg  \n",
            "  inflating: test/tomatoes/img_p2_6.jpeg  \n",
            "  inflating: test/tomatoes/img_p2_63.jpeg  \n",
            "  inflating: test/tomatoes/img_p2_73.jpeg  \n",
            "  inflating: test/tomatoes/img_p2_79.jpeg  \n",
            "  inflating: test/tomatoes/img_p2_82.jpeg  \n",
            "  inflating: test/tomatoes/img_p2_84.jpeg  \n",
            "  inflating: test/tomatoes/img_p2_88.jpeg  \n",
            "  inflating: test/tomatoes/img_p2_90.jpeg  \n",
            "  inflating: test/tomatoes/img_p3_103.jpeg  \n",
            "  inflating: test/tomatoes/img_p3_11.jpeg  \n",
            "  inflating: test/tomatoes/img_p3_124.jpeg  \n",
            "  inflating: test/tomatoes/img_p3_126.jpeg  \n",
            "  inflating: test/tomatoes/img_p3_13.jpeg  \n",
            "  inflating: test/tomatoes/img_p3_19.jpeg  \n",
            "  inflating: test/tomatoes/img_p3_24.jpeg  \n",
            "  inflating: test/tomatoes/img_p3_34.jpeg  \n",
            "  inflating: test/tomatoes/img_p3_6.jpeg  \n",
            "  inflating: test/tomatoes/img_p3_66.jpeg  \n",
            "  inflating: test/tomatoes/img_p3_7.jpeg  \n",
            "  inflating: test/tomatoes/img_p3_74.jpeg  \n",
            "  inflating: test/tomatoes/img_p3_99.jpeg  \n",
            "  inflating: train/apples/img_p1_10.jpeg  \n",
            "  inflating: train/apples/img_p1_100.jpeg  \n",
            "  inflating: train/apples/img_p1_107.jpeg  \n",
            "  inflating: train/apples/img_p1_109.jpeg  \n",
            "  inflating: train/apples/img_p1_11.jpeg  \n",
            "  inflating: train/apples/img_p1_113.jpeg  \n",
            "  inflating: train/apples/img_p1_115.jpeg  \n",
            "  inflating: train/apples/img_p1_117.jpeg  \n",
            "  inflating: train/apples/img_p1_119.jpeg  \n",
            "  inflating: train/apples/img_p1_12.jpeg  \n",
            "  inflating: train/apples/img_p1_123.jpeg  \n",
            "  inflating: train/apples/img_p1_125.jpeg  \n",
            "  inflating: train/apples/img_p1_129.jpeg  \n",
            "  inflating: train/apples/img_p1_13.jpeg  \n",
            "  inflating: train/apples/img_p1_135.jpeg  \n",
            "  inflating: train/apples/img_p1_137.jpeg  \n",
            "  inflating: train/apples/img_p1_141.jpeg  \n",
            "  inflating: train/apples/img_p1_144.jpeg  \n",
            "  inflating: train/apples/img_p1_17.jpeg  \n",
            "  inflating: train/apples/img_p1_18.jpeg  \n",
            "  inflating: train/apples/img_p1_20.jpeg  \n",
            "  inflating: train/apples/img_p1_21.jpeg  \n",
            "  inflating: train/apples/img_p1_22.jpeg  \n",
            "  inflating: train/apples/img_p1_23.jpeg  \n",
            "  inflating: train/apples/img_p1_24.jpeg  \n",
            "  inflating: train/apples/img_p1_25.jpeg  \n",
            "  inflating: train/apples/img_p1_28.jpeg  \n",
            "  inflating: train/apples/img_p1_31.jpeg  \n",
            "  inflating: train/apples/img_p1_32.jpeg  \n",
            "  inflating: train/apples/img_p1_35.jpeg  \n",
            "  inflating: train/apples/img_p1_37.jpeg  \n",
            "  inflating: train/apples/img_p1_38.jpeg  \n",
            "  inflating: train/apples/img_p1_39.jpeg  \n",
            "  inflating: train/apples/img_p1_4.jpeg  \n",
            "  inflating: train/apples/img_p1_40.jpeg  \n",
            "  inflating: train/apples/img_p1_41.jpeg  \n",
            "  inflating: train/apples/img_p1_42.jpeg  \n",
            "  inflating: train/apples/img_p1_44.jpeg  \n",
            "  inflating: train/apples/img_p1_46.jpeg  \n",
            "  inflating: train/apples/img_p1_48.jpeg  \n",
            "  inflating: train/apples/img_p1_5.jpeg  \n",
            "  inflating: train/apples/img_p1_57.jpeg  \n",
            "  inflating: train/apples/img_p1_59.jpeg  \n",
            "  inflating: train/apples/img_p1_6.jpeg  \n",
            "  inflating: train/apples/img_p1_61.jpeg  \n",
            "  inflating: train/apples/img_p1_63.jpeg  \n",
            "  inflating: train/apples/img_p1_65.jpeg  \n",
            "  inflating: train/apples/img_p1_67.jpeg  \n",
            "  inflating: train/apples/img_p1_72.jpeg  \n",
            "  inflating: train/apples/img_p1_78.jpeg  \n",
            "  inflating: train/apples/img_p1_80.jpeg  \n",
            "  inflating: train/apples/img_p1_86.jpeg  \n",
            "  inflating: train/apples/img_p1_92.jpeg  \n",
            "  inflating: train/apples/img_p2_100.jpeg  \n",
            "  inflating: train/apples/img_p2_102.jpeg  \n",
            "  inflating: train/apples/img_p2_104.jpeg  \n",
            "  inflating: train/apples/img_p2_108.jpeg  \n",
            "  inflating: train/apples/img_p2_11.jpeg  \n",
            "  inflating: train/apples/img_p2_110.jpeg  \n",
            "  inflating: train/apples/img_p2_112.jpeg  \n",
            "  inflating: train/apples/img_p2_118.jpeg  \n",
            "  inflating: train/apples/img_p2_14.jpeg  \n",
            "  inflating: train/apples/img_p2_15.jpeg  \n",
            "  inflating: train/apples/img_p2_16.jpeg  \n",
            "  inflating: train/apples/img_p2_17.jpeg  \n",
            "  inflating: train/apples/img_p2_18.jpeg  \n",
            "  inflating: train/apples/img_p2_19.jpeg  \n",
            "  inflating: train/apples/img_p2_20.jpeg  \n",
            "  inflating: train/apples/img_p2_21.jpeg  \n",
            "  inflating: train/apples/img_p2_22.jpeg  \n",
            "  inflating: train/apples/img_p2_23.jpeg  \n",
            "  inflating: train/apples/img_p2_24.jpeg  \n",
            "  inflating: train/apples/img_p2_26.jpeg  \n",
            "  inflating: train/apples/img_p2_30.jpeg  \n",
            "  inflating: train/apples/img_p2_32.jpeg  \n",
            "  inflating: train/apples/img_p2_34.jpeg  \n",
            "  inflating: train/apples/img_p2_36.jpeg  \n",
            "  inflating: train/apples/img_p2_37.jpeg  \n",
            "  inflating: train/apples/img_p2_39.jpeg  \n",
            "  inflating: train/apples/img_p2_4.jpeg  \n",
            "  inflating: train/apples/img_p2_43.jpeg  \n",
            "  inflating: train/apples/img_p2_47.jpeg  \n",
            "  inflating: train/apples/img_p2_49.jpeg  \n",
            "  inflating: train/apples/img_p2_5.jpeg  \n",
            "  inflating: train/apples/img_p2_53.jpeg  \n",
            "  inflating: train/apples/img_p2_55.jpeg  \n",
            "  inflating: train/apples/img_p2_57.jpeg  \n",
            "  inflating: train/apples/img_p2_6.jpeg  \n",
            "  inflating: train/apples/img_p2_61.jpeg  \n",
            "  inflating: train/apples/img_p2_63.jpeg  \n",
            "  inflating: train/apples/img_p2_65.jpeg  \n",
            "  inflating: train/apples/img_p2_67.jpeg  \n",
            "  inflating: train/apples/img_p2_69.jpeg  \n",
            "  inflating: train/apples/img_p2_7.jpeg  \n",
            "  inflating: train/apples/img_p2_70.jpeg  \n",
            "  inflating: train/apples/img_p2_72.jpeg  \n",
            "  inflating: train/apples/img_p2_74.jpeg  \n",
            "  inflating: train/apples/img_p2_76.jpeg  \n",
            "  inflating: train/apples/img_p2_77.jpeg  \n",
            "  inflating: train/apples/img_p2_79.jpeg  \n",
            "  inflating: train/apples/img_p2_8.jpeg  \n",
            "  inflating: train/apples/img_p2_81.jpeg  \n",
            "  inflating: train/apples/img_p2_86.jpeg  \n",
            "  inflating: train/apples/img_p2_88.jpeg  \n",
            "  inflating: train/apples/img_p2_9.jpeg  \n",
            "  inflating: train/apples/img_p2_90.jpeg  \n",
            "  inflating: train/apples/img_p2_92.jpeg  \n",
            "  inflating: train/apples/img_p2_94.jpeg  \n",
            "  inflating: train/apples/img_p2_96.jpeg  \n",
            "  inflating: train/apples/img_p2_98.jpeg  \n",
            "  inflating: train/apples/img_p3_10.jpeg  \n",
            "  inflating: train/apples/img_p3_100.jpeg  \n",
            "  inflating: train/apples/img_p3_101.jpeg  \n",
            "  inflating: train/apples/img_p3_103.jpeg  \n",
            "  inflating: train/apples/img_p3_107.jpeg  \n",
            "  inflating: train/apples/img_p3_109.jpeg  \n",
            "  inflating: train/apples/img_p3_113.jpeg  \n",
            "  inflating: train/apples/img_p3_115.jpeg  \n",
            "  inflating: train/apples/img_p3_117.jpeg  \n",
            "  inflating: train/apples/img_p3_119.jpeg  \n",
            "  inflating: train/apples/img_p3_121.jpeg  \n",
            "  inflating: train/apples/img_p3_13.jpeg  \n",
            "  inflating: train/apples/img_p3_16.jpeg  \n",
            "  inflating: train/apples/img_p3_17.jpeg  \n",
            "  inflating: train/apples/img_p3_18.jpeg  \n",
            "  inflating: train/apples/img_p3_19.jpeg  \n",
            "  inflating: train/apples/img_p3_20.jpeg  \n",
            "  inflating: train/apples/img_p3_21.jpeg  \n",
            "  inflating: train/apples/img_p3_22.jpeg  \n",
            "  inflating: train/apples/img_p3_24.jpeg  \n",
            "  inflating: train/apples/img_p3_27.jpeg  \n",
            "  inflating: train/apples/img_p3_29.jpeg  \n",
            "  inflating: train/apples/img_p3_31.jpeg  \n",
            "  inflating: train/apples/img_p3_32.jpeg  \n",
            "  inflating: train/apples/img_p3_36.jpeg  \n",
            "  inflating: train/apples/img_p3_38.jpeg  \n",
            "  inflating: train/apples/img_p3_4.jpeg  \n",
            "  inflating: train/apples/img_p3_40.jpeg  \n",
            "  inflating: train/apples/img_p3_42.jpeg  \n",
            "  inflating: train/apples/img_p3_46.jpeg  \n",
            "  inflating: train/apples/img_p3_48.jpeg  \n",
            "  inflating: train/apples/img_p3_5.jpeg  \n",
            "  inflating: train/apples/img_p3_52.jpeg  \n",
            "  inflating: train/apples/img_p3_54.jpeg  \n",
            "  inflating: train/apples/img_p3_56.jpeg  \n",
            "  inflating: train/apples/img_p3_58.jpeg  \n",
            "  inflating: train/apples/img_p3_60.jpeg  \n",
            "  inflating: train/apples/img_p3_62.jpeg  \n",
            "  inflating: train/apples/img_p3_64.jpeg  \n",
            "  inflating: train/apples/img_p3_66.jpeg  \n",
            "  inflating: train/apples/img_p3_70.jpeg  \n",
            "  inflating: train/apples/img_p3_72.jpeg  \n",
            "  inflating: train/apples/img_p3_74.jpeg  \n",
            "  inflating: train/apples/img_p3_76.jpeg  \n",
            "  inflating: train/apples/img_p3_77.jpeg  \n",
            "  inflating: train/apples/img_p3_80.jpeg  \n",
            "  inflating: train/apples/img_p3_82.jpeg  \n",
            "  inflating: train/apples/img_p3_84.jpeg  \n",
            "  inflating: train/apples/img_p3_9.jpeg  \n",
            "  inflating: train/apples/img_p3_90.jpeg  \n",
            "  inflating: train/apples/img_p3_92.jpeg  \n",
            "  inflating: train/apples/img_p3_94.jpeg  \n",
            "  inflating: train/apples/img_p3_96.jpeg  \n",
            "  inflating: train/apples/img_p3_98.jpeg  \n",
            "  inflating: train/tomatoes/img_p1_10.jpeg  \n",
            "  inflating: train/tomatoes/img_p1_101.jpeg  \n",
            "  inflating: train/tomatoes/img_p1_103.jpeg  \n",
            "  inflating: train/tomatoes/img_p1_109.jpeg  \n",
            "  inflating: train/tomatoes/img_p1_11.jpeg  \n",
            "  inflating: train/tomatoes/img_p1_111.jpeg  \n",
            "  inflating: train/tomatoes/img_p1_113.jpeg  \n",
            "  inflating: train/tomatoes/img_p1_14.jpeg  \n",
            "  inflating: train/tomatoes/img_p1_16.jpeg  \n",
            "  inflating: train/tomatoes/img_p1_17.jpeg  \n",
            "  inflating: train/tomatoes/img_p1_18.jpeg  \n",
            "  inflating: train/tomatoes/img_p1_20.jpeg  \n",
            "  inflating: train/tomatoes/img_p1_21.jpeg  \n",
            "  inflating: train/tomatoes/img_p1_23.jpeg  \n",
            "  inflating: train/tomatoes/img_p1_26.jpeg  \n",
            "  inflating: train/tomatoes/img_p1_27.jpeg  \n",
            "  inflating: train/tomatoes/img_p1_28.jpeg  \n",
            "  inflating: train/tomatoes/img_p1_29.jpeg  \n",
            "  inflating: train/tomatoes/img_p1_31.jpeg  \n",
            "  inflating: train/tomatoes/img_p1_35.jpeg  \n",
            "  inflating: train/tomatoes/img_p1_37.jpeg  \n",
            "  inflating: train/tomatoes/img_p1_39.jpeg  \n",
            "  inflating: train/tomatoes/img_p1_4.jpeg  \n",
            "  inflating: train/tomatoes/img_p1_41.jpeg  \n",
            "  inflating: train/tomatoes/img_p1_45.jpeg  \n",
            "  inflating: train/tomatoes/img_p1_47.jpeg  \n",
            "  inflating: train/tomatoes/img_p1_49.jpeg  \n",
            "  inflating: train/tomatoes/img_p1_5.jpeg  \n",
            "  inflating: train/tomatoes/img_p1_56.jpeg  \n",
            "  inflating: train/tomatoes/img_p1_62.jpeg  \n",
            "  inflating: train/tomatoes/img_p1_64.jpeg  \n",
            "  inflating: train/tomatoes/img_p1_68.jpeg  \n",
            "  inflating: train/tomatoes/img_p1_7.jpeg  \n",
            "  inflating: train/tomatoes/img_p1_70.jpeg  \n",
            "  inflating: train/tomatoes/img_p1_72.jpeg  \n",
            "  inflating: train/tomatoes/img_p1_74.jpeg  \n",
            "  inflating: train/tomatoes/img_p1_77.jpeg  \n",
            "  inflating: train/tomatoes/img_p1_79.jpeg  \n",
            "  inflating: train/tomatoes/img_p1_80.jpeg  \n",
            "  inflating: train/tomatoes/img_p1_84.jpeg  \n",
            "  inflating: train/tomatoes/img_p1_90.jpeg  \n",
            "  inflating: train/tomatoes/img_p1_94.jpeg  \n",
            "  inflating: train/tomatoes/img_p1_95.jpeg  \n",
            "  inflating: train/tomatoes/img_p1_97.jpeg  \n",
            "  inflating: train/tomatoes/img_p1_99.jpeg  \n",
            "  inflating: train/tomatoes/img_p2_103.jpeg  \n",
            "  inflating: train/tomatoes/img_p2_105.jpeg  \n",
            "  inflating: train/tomatoes/img_p2_11.jpeg  \n",
            "  inflating: train/tomatoes/img_p2_116.jpeg  \n",
            "  inflating: train/tomatoes/img_p2_118.jpeg  \n",
            "  inflating: train/tomatoes/img_p2_12.jpeg  \n",
            "  inflating: train/tomatoes/img_p2_16.jpeg  \n",
            "  inflating: train/tomatoes/img_p2_20.jpeg  \n",
            "  inflating: train/tomatoes/img_p2_21.jpeg  \n",
            "  inflating: train/tomatoes/img_p2_22.jpeg  \n",
            "  inflating: train/tomatoes/img_p2_30.jpeg  \n",
            "  inflating: train/tomatoes/img_p2_31.jpeg  \n",
            "  inflating: train/tomatoes/img_p2_33.jpeg  \n",
            "  inflating: train/tomatoes/img_p2_35.jpeg  \n",
            "  inflating: train/tomatoes/img_p2_39.jpeg  \n",
            "  inflating: train/tomatoes/img_p2_4.jpeg  \n",
            "  inflating: train/tomatoes/img_p2_41.jpeg  \n",
            "  inflating: train/tomatoes/img_p2_47.jpeg  \n",
            "  inflating: train/tomatoes/img_p2_57.jpeg  \n",
            "  inflating: train/tomatoes/img_p2_59.jpeg  \n",
            "  inflating: train/tomatoes/img_p2_65.jpeg  \n",
            "  inflating: train/tomatoes/img_p2_69.jpeg  \n",
            "  inflating: train/tomatoes/img_p2_7.jpeg  \n",
            "  inflating: train/tomatoes/img_p2_71.jpeg  \n",
            "  inflating: train/tomatoes/img_p2_75.jpeg  \n",
            "  inflating: train/tomatoes/img_p2_77.jpeg  \n",
            "  inflating: train/tomatoes/img_p2_83.jpeg  \n",
            "  inflating: train/tomatoes/img_p2_92.jpeg  \n",
            "  inflating: train/tomatoes/img_p2_97.jpeg  \n",
            "  inflating: train/tomatoes/img_p3_10.jpeg  \n",
            "  inflating: train/tomatoes/img_p3_101.jpeg  \n",
            "  inflating: train/tomatoes/img_p3_107.jpeg  \n",
            "  inflating: train/tomatoes/img_p3_111.jpeg  \n",
            "  inflating: train/tomatoes/img_p3_113.jpeg  \n",
            "  inflating: train/tomatoes/img_p3_116.jpeg  \n",
            "  inflating: train/tomatoes/img_p3_118.jpeg  \n",
            "  inflating: train/tomatoes/img_p3_12.jpeg  \n",
            "  inflating: train/tomatoes/img_p3_120.jpeg  \n",
            "  inflating: train/tomatoes/img_p3_122.jpeg  \n",
            "  inflating: train/tomatoes/img_p3_14.jpeg  \n",
            "  inflating: train/tomatoes/img_p3_15.jpeg  \n",
            "  inflating: train/tomatoes/img_p3_16.jpeg  \n",
            "  inflating: train/tomatoes/img_p3_17.jpeg  \n",
            "  inflating: train/tomatoes/img_p3_18.jpeg  \n",
            "  inflating: train/tomatoes/img_p3_20.jpeg  \n",
            "  inflating: train/tomatoes/img_p3_22.jpeg  \n",
            "  inflating: train/tomatoes/img_p3_23.jpeg  \n",
            "  inflating: train/tomatoes/img_p3_25.jpeg  \n",
            "  inflating: train/tomatoes/img_p3_26.jpeg  \n",
            "  inflating: train/tomatoes/img_p3_28.jpeg  \n",
            "  inflating: train/tomatoes/img_p3_30.jpeg  \n",
            "  inflating: train/tomatoes/img_p3_32.jpeg  \n",
            "  inflating: train/tomatoes/img_p3_36.jpeg  \n",
            "  inflating: train/tomatoes/img_p3_37.jpeg  \n",
            "  inflating: train/tomatoes/img_p3_4.jpeg  \n",
            "  inflating: train/tomatoes/img_p3_40.jpeg  \n",
            "  inflating: train/tomatoes/img_p3_42.jpeg  \n",
            "  inflating: train/tomatoes/img_p3_44.jpeg  \n",
            "  inflating: train/tomatoes/img_p3_46.jpeg  \n",
            "  inflating: train/tomatoes/img_p3_48.jpeg  \n",
            "  inflating: train/tomatoes/img_p3_5.jpeg  \n",
            "  inflating: train/tomatoes/img_p3_50.jpeg  \n",
            "  inflating: train/tomatoes/img_p3_52.jpeg  \n",
            "  inflating: train/tomatoes/img_p3_54.jpeg  \n",
            "  inflating: train/tomatoes/img_p3_56.jpeg  \n",
            "  inflating: train/tomatoes/img_p3_58.jpeg  \n",
            "  inflating: train/tomatoes/img_p3_60.jpeg  \n",
            "  inflating: train/tomatoes/img_p3_62.jpeg  \n",
            "  inflating: train/tomatoes/img_p3_64.jpeg  \n",
            "  inflating: train/tomatoes/img_p3_68.jpeg  \n",
            "  inflating: train/tomatoes/img_p3_70.jpeg  \n",
            "  inflating: train/tomatoes/img_p3_72.jpeg  \n",
            "  inflating: train/tomatoes/img_p3_76.jpeg  \n",
            "  inflating: train/tomatoes/img_p3_79.jpeg  \n",
            "  inflating: train/tomatoes/img_p3_8.jpeg  \n",
            "  inflating: train/tomatoes/img_p3_81.jpeg  \n",
            "  inflating: train/tomatoes/img_p3_83.jpeg  \n",
            "  inflating: train/tomatoes/img_p3_84.jpeg  \n",
            "  inflating: train/tomatoes/img_p3_85.jpeg  \n",
            "  inflating: train/tomatoes/img_p3_86.jpeg  \n",
            "  inflating: train/tomatoes/img_p3_88.jpeg  \n",
            "  inflating: train/tomatoes/img_p3_92.jpeg  \n",
            "  inflating: train/tomatoes/img_p3_94.jpeg  \n",
            "  inflating: train/tomatoes/img_p3_96.jpeg  \n",
            "  inflating: train/tomatoes/img_p3_97.jpeg  \n"
          ]
        }
      ]
    },
    {
      "cell_type": "code",
      "source": [
        "# re-size all the images to this\n",
        "IMAGE_SIZE = [224, 224]"
      ],
      "metadata": {
        "id": "CJ8hebX6AEdW"
      },
      "execution_count": 7,
      "outputs": []
    },
    {
      "cell_type": "code",
      "source": [
        "train_path = '/content/train'\n",
        "valid_path = '/content/test'"
      ],
      "metadata": {
        "id": "U8h-2ApeBlev"
      },
      "execution_count": 8,
      "outputs": []
    },
    {
      "cell_type": "code",
      "source": [
        "import tensorflow as tf\n",
        "from tensorflow.keras.preprocessing import image\n",
        "from tensorflow.keras.preprocessing.image import ImageDataGenerator,load_img\n",
        "import numpy as np\n",
        "from glob import glob\n",
        "from tensorflow.keras.models import Sequential\n",
        "from tensorflow.keras.models import Model\n",
        "from tensorflow.keras.layers import Input, Conv2D, Dense, Flatten, MaxPooling2D"
      ],
      "metadata": {
        "id": "hddjYi9EBtr2"
      },
      "execution_count": 9,
      "outputs": []
    },
    {
      "cell_type": "code",
      "source": [
        "folders = glob('/content/train/*')\n",
        "folders"
      ],
      "metadata": {
        "colab": {
          "base_uri": "https://localhost:8080/"
        },
        "id": "rDQIYOJcDI4X",
        "outputId": "6e8034ca-41bb-44c6-aa95-68221f76bb30"
      },
      "execution_count": 10,
      "outputs": [
        {
          "output_type": "execute_result",
          "data": {
            "text/plain": [
              "['/content/train/apples', '/content/train/tomatoes']"
            ]
          },
          "metadata": {},
          "execution_count": 10
        }
      ]
    },
    {
      "cell_type": "code",
      "source": [
        "num_of_class = len(folders)\n",
        "num_of_class"
      ],
      "metadata": {
        "colab": {
          "base_uri": "https://localhost:8080/"
        },
        "id": "XJHUcNXlDbRY",
        "outputId": "3c2c5005-c808-4a42-a0ac-7f61a0e3f6bc"
      },
      "execution_count": 11,
      "outputs": [
        {
          "output_type": "execute_result",
          "data": {
            "text/plain": [
              "2"
            ]
          },
          "metadata": {},
          "execution_count": 11
        }
      ]
    },
    {
      "cell_type": "code",
      "source": [
        "model = Sequential()\n",
        "\n",
        "model.add(Conv2D(32,kernel_size=(3,3),padding='valid',activation='relu',input_shape=(224,224,3)))\n",
        "model.add(MaxPooling2D(pool_size=(2,2),strides=2,padding='valid'))\n",
        "\n",
        "model.add(Conv2D(64,kernel_size=(3,3),padding='valid',activation='relu'))\n",
        "\n",
        "model.add(MaxPooling2D(pool_size=(2,2),strides=2,padding='valid'))\n",
        "\n",
        "model.add(Conv2D(128,kernel_size=(3,3),padding='valid',activation='relu'))\n",
        "\n",
        "model.add(MaxPooling2D(pool_size=(2,2),strides=2,padding='valid'))\n",
        "\n",
        "model.add(Flatten())\n",
        "\n",
        "model.add(Dense(128,activation='relu'))\n",
        "\n",
        "model.add(Dense(64,activation='relu'))\n",
        "\n",
        "model.add(Dense(1,activation='sigmoid'))"
      ],
      "metadata": {
        "id": "J3jQckEpDd3Q",
        "colab": {
          "base_uri": "https://localhost:8080/"
        },
        "outputId": "cf1b3619-d2f4-452b-b821-202213656216"
      },
      "execution_count": 12,
      "outputs": [
        {
          "output_type": "stream",
          "name": "stderr",
          "text": [
            "/usr/local/lib/python3.11/dist-packages/keras/src/layers/convolutional/base_conv.py:107: UserWarning: Do not pass an `input_shape`/`input_dim` argument to a layer. When using Sequential models, prefer using an `Input(shape)` object as the first layer in the model instead.\n",
            "  super().__init__(activity_regularizer=activity_regularizer, **kwargs)\n"
          ]
        }
      ]
    },
    {
      "cell_type": "code",
      "source": [
        "# view the structure of the model\n",
        "model.summary()"
      ],
      "metadata": {
        "colab": {
          "base_uri": "https://localhost:8080/",
          "height": 449
        },
        "id": "vUAzPRm6EO9f",
        "outputId": "19ec4272-b4a7-421a-b51d-e553f2ef5bec"
      },
      "execution_count": 13,
      "outputs": [
        {
          "output_type": "display_data",
          "data": {
            "text/plain": [
              "\u001b[1mModel: \"sequential\"\u001b[0m\n"
            ],
            "text/html": [
              "<pre style=\"white-space:pre;overflow-x:auto;line-height:normal;font-family:Menlo,'DejaVu Sans Mono',consolas,'Courier New',monospace\"><span style=\"font-weight: bold\">Model: \"sequential\"</span>\n",
              "</pre>\n"
            ]
          },
          "metadata": {}
        },
        {
          "output_type": "display_data",
          "data": {
            "text/plain": [
              "┏━━━━━━━━━━━━━━━━━━━━━━━━━━━━━━━━━┳━━━━━━━━━━━━━━━━━━━━━━━━┳━━━━━━━━━━━━━━━┓\n",
              "┃\u001b[1m \u001b[0m\u001b[1mLayer (type)                   \u001b[0m\u001b[1m \u001b[0m┃\u001b[1m \u001b[0m\u001b[1mOutput Shape          \u001b[0m\u001b[1m \u001b[0m┃\u001b[1m \u001b[0m\u001b[1m      Param #\u001b[0m\u001b[1m \u001b[0m┃\n",
              "┡━━━━━━━━━━━━━━━━━━━━━━━━━━━━━━━━━╇━━━━━━━━━━━━━━━━━━━━━━━━╇━━━━━━━━━━━━━━━┩\n",
              "│ conv2d (\u001b[38;5;33mConv2D\u001b[0m)                 │ (\u001b[38;5;45mNone\u001b[0m, \u001b[38;5;34m222\u001b[0m, \u001b[38;5;34m222\u001b[0m, \u001b[38;5;34m32\u001b[0m)   │           \u001b[38;5;34m896\u001b[0m │\n",
              "├─────────────────────────────────┼────────────────────────┼───────────────┤\n",
              "│ max_pooling2d (\u001b[38;5;33mMaxPooling2D\u001b[0m)    │ (\u001b[38;5;45mNone\u001b[0m, \u001b[38;5;34m111\u001b[0m, \u001b[38;5;34m111\u001b[0m, \u001b[38;5;34m32\u001b[0m)   │             \u001b[38;5;34m0\u001b[0m │\n",
              "├─────────────────────────────────┼────────────────────────┼───────────────┤\n",
              "│ conv2d_1 (\u001b[38;5;33mConv2D\u001b[0m)               │ (\u001b[38;5;45mNone\u001b[0m, \u001b[38;5;34m109\u001b[0m, \u001b[38;5;34m109\u001b[0m, \u001b[38;5;34m64\u001b[0m)   │        \u001b[38;5;34m18,496\u001b[0m │\n",
              "├─────────────────────────────────┼────────────────────────┼───────────────┤\n",
              "│ max_pooling2d_1 (\u001b[38;5;33mMaxPooling2D\u001b[0m)  │ (\u001b[38;5;45mNone\u001b[0m, \u001b[38;5;34m54\u001b[0m, \u001b[38;5;34m54\u001b[0m, \u001b[38;5;34m64\u001b[0m)     │             \u001b[38;5;34m0\u001b[0m │\n",
              "├─────────────────────────────────┼────────────────────────┼───────────────┤\n",
              "│ conv2d_2 (\u001b[38;5;33mConv2D\u001b[0m)               │ (\u001b[38;5;45mNone\u001b[0m, \u001b[38;5;34m52\u001b[0m, \u001b[38;5;34m52\u001b[0m, \u001b[38;5;34m128\u001b[0m)    │        \u001b[38;5;34m73,856\u001b[0m │\n",
              "├─────────────────────────────────┼────────────────────────┼───────────────┤\n",
              "│ max_pooling2d_2 (\u001b[38;5;33mMaxPooling2D\u001b[0m)  │ (\u001b[38;5;45mNone\u001b[0m, \u001b[38;5;34m26\u001b[0m, \u001b[38;5;34m26\u001b[0m, \u001b[38;5;34m128\u001b[0m)    │             \u001b[38;5;34m0\u001b[0m │\n",
              "├─────────────────────────────────┼────────────────────────┼───────────────┤\n",
              "│ flatten (\u001b[38;5;33mFlatten\u001b[0m)               │ (\u001b[38;5;45mNone\u001b[0m, \u001b[38;5;34m86528\u001b[0m)          │             \u001b[38;5;34m0\u001b[0m │\n",
              "├─────────────────────────────────┼────────────────────────┼───────────────┤\n",
              "│ dense (\u001b[38;5;33mDense\u001b[0m)                   │ (\u001b[38;5;45mNone\u001b[0m, \u001b[38;5;34m128\u001b[0m)            │    \u001b[38;5;34m11,075,712\u001b[0m │\n",
              "├─────────────────────────────────┼────────────────────────┼───────────────┤\n",
              "│ dense_1 (\u001b[38;5;33mDense\u001b[0m)                 │ (\u001b[38;5;45mNone\u001b[0m, \u001b[38;5;34m64\u001b[0m)             │         \u001b[38;5;34m8,256\u001b[0m │\n",
              "├─────────────────────────────────┼────────────────────────┼───────────────┤\n",
              "│ dense_2 (\u001b[38;5;33mDense\u001b[0m)                 │ (\u001b[38;5;45mNone\u001b[0m, \u001b[38;5;34m1\u001b[0m)              │            \u001b[38;5;34m65\u001b[0m │\n",
              "└─────────────────────────────────┴────────────────────────┴───────────────┘\n"
            ],
            "text/html": [
              "<pre style=\"white-space:pre;overflow-x:auto;line-height:normal;font-family:Menlo,'DejaVu Sans Mono',consolas,'Courier New',monospace\">┏━━━━━━━━━━━━━━━━━━━━━━━━━━━━━━━━━┳━━━━━━━━━━━━━━━━━━━━━━━━┳━━━━━━━━━━━━━━━┓\n",
              "┃<span style=\"font-weight: bold\"> Layer (type)                    </span>┃<span style=\"font-weight: bold\"> Output Shape           </span>┃<span style=\"font-weight: bold\">       Param # </span>┃\n",
              "┡━━━━━━━━━━━━━━━━━━━━━━━━━━━━━━━━━╇━━━━━━━━━━━━━━━━━━━━━━━━╇━━━━━━━━━━━━━━━┩\n",
              "│ conv2d (<span style=\"color: #0087ff; text-decoration-color: #0087ff\">Conv2D</span>)                 │ (<span style=\"color: #00d7ff; text-decoration-color: #00d7ff\">None</span>, <span style=\"color: #00af00; text-decoration-color: #00af00\">222</span>, <span style=\"color: #00af00; text-decoration-color: #00af00\">222</span>, <span style=\"color: #00af00; text-decoration-color: #00af00\">32</span>)   │           <span style=\"color: #00af00; text-decoration-color: #00af00\">896</span> │\n",
              "├─────────────────────────────────┼────────────────────────┼───────────────┤\n",
              "│ max_pooling2d (<span style=\"color: #0087ff; text-decoration-color: #0087ff\">MaxPooling2D</span>)    │ (<span style=\"color: #00d7ff; text-decoration-color: #00d7ff\">None</span>, <span style=\"color: #00af00; text-decoration-color: #00af00\">111</span>, <span style=\"color: #00af00; text-decoration-color: #00af00\">111</span>, <span style=\"color: #00af00; text-decoration-color: #00af00\">32</span>)   │             <span style=\"color: #00af00; text-decoration-color: #00af00\">0</span> │\n",
              "├─────────────────────────────────┼────────────────────────┼───────────────┤\n",
              "│ conv2d_1 (<span style=\"color: #0087ff; text-decoration-color: #0087ff\">Conv2D</span>)               │ (<span style=\"color: #00d7ff; text-decoration-color: #00d7ff\">None</span>, <span style=\"color: #00af00; text-decoration-color: #00af00\">109</span>, <span style=\"color: #00af00; text-decoration-color: #00af00\">109</span>, <span style=\"color: #00af00; text-decoration-color: #00af00\">64</span>)   │        <span style=\"color: #00af00; text-decoration-color: #00af00\">18,496</span> │\n",
              "├─────────────────────────────────┼────────────────────────┼───────────────┤\n",
              "│ max_pooling2d_1 (<span style=\"color: #0087ff; text-decoration-color: #0087ff\">MaxPooling2D</span>)  │ (<span style=\"color: #00d7ff; text-decoration-color: #00d7ff\">None</span>, <span style=\"color: #00af00; text-decoration-color: #00af00\">54</span>, <span style=\"color: #00af00; text-decoration-color: #00af00\">54</span>, <span style=\"color: #00af00; text-decoration-color: #00af00\">64</span>)     │             <span style=\"color: #00af00; text-decoration-color: #00af00\">0</span> │\n",
              "├─────────────────────────────────┼────────────────────────┼───────────────┤\n",
              "│ conv2d_2 (<span style=\"color: #0087ff; text-decoration-color: #0087ff\">Conv2D</span>)               │ (<span style=\"color: #00d7ff; text-decoration-color: #00d7ff\">None</span>, <span style=\"color: #00af00; text-decoration-color: #00af00\">52</span>, <span style=\"color: #00af00; text-decoration-color: #00af00\">52</span>, <span style=\"color: #00af00; text-decoration-color: #00af00\">128</span>)    │        <span style=\"color: #00af00; text-decoration-color: #00af00\">73,856</span> │\n",
              "├─────────────────────────────────┼────────────────────────┼───────────────┤\n",
              "│ max_pooling2d_2 (<span style=\"color: #0087ff; text-decoration-color: #0087ff\">MaxPooling2D</span>)  │ (<span style=\"color: #00d7ff; text-decoration-color: #00d7ff\">None</span>, <span style=\"color: #00af00; text-decoration-color: #00af00\">26</span>, <span style=\"color: #00af00; text-decoration-color: #00af00\">26</span>, <span style=\"color: #00af00; text-decoration-color: #00af00\">128</span>)    │             <span style=\"color: #00af00; text-decoration-color: #00af00\">0</span> │\n",
              "├─────────────────────────────────┼────────────────────────┼───────────────┤\n",
              "│ flatten (<span style=\"color: #0087ff; text-decoration-color: #0087ff\">Flatten</span>)               │ (<span style=\"color: #00d7ff; text-decoration-color: #00d7ff\">None</span>, <span style=\"color: #00af00; text-decoration-color: #00af00\">86528</span>)          │             <span style=\"color: #00af00; text-decoration-color: #00af00\">0</span> │\n",
              "├─────────────────────────────────┼────────────────────────┼───────────────┤\n",
              "│ dense (<span style=\"color: #0087ff; text-decoration-color: #0087ff\">Dense</span>)                   │ (<span style=\"color: #00d7ff; text-decoration-color: #00d7ff\">None</span>, <span style=\"color: #00af00; text-decoration-color: #00af00\">128</span>)            │    <span style=\"color: #00af00; text-decoration-color: #00af00\">11,075,712</span> │\n",
              "├─────────────────────────────────┼────────────────────────┼───────────────┤\n",
              "│ dense_1 (<span style=\"color: #0087ff; text-decoration-color: #0087ff\">Dense</span>)                 │ (<span style=\"color: #00d7ff; text-decoration-color: #00d7ff\">None</span>, <span style=\"color: #00af00; text-decoration-color: #00af00\">64</span>)             │         <span style=\"color: #00af00; text-decoration-color: #00af00\">8,256</span> │\n",
              "├─────────────────────────────────┼────────────────────────┼───────────────┤\n",
              "│ dense_2 (<span style=\"color: #0087ff; text-decoration-color: #0087ff\">Dense</span>)                 │ (<span style=\"color: #00d7ff; text-decoration-color: #00d7ff\">None</span>, <span style=\"color: #00af00; text-decoration-color: #00af00\">1</span>)              │            <span style=\"color: #00af00; text-decoration-color: #00af00\">65</span> │\n",
              "└─────────────────────────────────┴────────────────────────┴───────────────┘\n",
              "</pre>\n"
            ]
          },
          "metadata": {}
        },
        {
          "output_type": "display_data",
          "data": {
            "text/plain": [
              "\u001b[1m Total params: \u001b[0m\u001b[38;5;34m11,177,281\u001b[0m (42.64 MB)\n"
            ],
            "text/html": [
              "<pre style=\"white-space:pre;overflow-x:auto;line-height:normal;font-family:Menlo,'DejaVu Sans Mono',consolas,'Courier New',monospace\"><span style=\"font-weight: bold\"> Total params: </span><span style=\"color: #00af00; text-decoration-color: #00af00\">11,177,281</span> (42.64 MB)\n",
              "</pre>\n"
            ]
          },
          "metadata": {}
        },
        {
          "output_type": "display_data",
          "data": {
            "text/plain": [
              "\u001b[1m Trainable params: \u001b[0m\u001b[38;5;34m11,177,281\u001b[0m (42.64 MB)\n"
            ],
            "text/html": [
              "<pre style=\"white-space:pre;overflow-x:auto;line-height:normal;font-family:Menlo,'DejaVu Sans Mono',consolas,'Courier New',monospace\"><span style=\"font-weight: bold\"> Trainable params: </span><span style=\"color: #00af00; text-decoration-color: #00af00\">11,177,281</span> (42.64 MB)\n",
              "</pre>\n"
            ]
          },
          "metadata": {}
        },
        {
          "output_type": "display_data",
          "data": {
            "text/plain": [
              "\u001b[1m Non-trainable params: \u001b[0m\u001b[38;5;34m0\u001b[0m (0.00 B)\n"
            ],
            "text/html": [
              "<pre style=\"white-space:pre;overflow-x:auto;line-height:normal;font-family:Menlo,'DejaVu Sans Mono',consolas,'Courier New',monospace\"><span style=\"font-weight: bold\"> Non-trainable params: </span><span style=\"color: #00af00; text-decoration-color: #00af00\">0</span> (0.00 B)\n",
              "</pre>\n"
            ]
          },
          "metadata": {}
        }
      ]
    },
    {
      "cell_type": "code",
      "source": [
        "model.compile(\n",
        "  loss='binary_crossentropy',\n",
        "  optimizer='adam',\n",
        "  metrics=['accuracy']\n",
        ")"
      ],
      "metadata": {
        "id": "Q4m-A33OEVJh"
      },
      "execution_count": 14,
      "outputs": []
    },
    {
      "cell_type": "code",
      "source": [
        "from tensorflow.keras.preprocessing.image import ImageDataGenerator"
      ],
      "metadata": {
        "id": "-76r68hdEVGH"
      },
      "execution_count": 15,
      "outputs": []
    },
    {
      "cell_type": "code",
      "source": [
        "train_datagen = ImageDataGenerator(rescale = 1./255,\n",
        "                                   shear_range = 0.2,\n",
        "                                   zoom_range = 0.2,\n",
        "                                   horizontal_flip = True)\n",
        "\n",
        "test_datagen = ImageDataGenerator(rescale = 1./255)"
      ],
      "metadata": {
        "id": "UAwZGY2MEVC_"
      },
      "execution_count": 16,
      "outputs": []
    },
    {
      "cell_type": "code",
      "source": [
        "training_set = train_datagen.flow_from_directory(train_path,\n",
        "                                                 target_size = (224, 224),\n",
        "                                                 batch_size = 32,\n",
        "                                                 class_mode = 'binary')"
      ],
      "metadata": {
        "colab": {
          "base_uri": "https://localhost:8080/"
        },
        "id": "GokmDUnkFLO3",
        "outputId": "b9b9c91c-1b53-4392-da95-6cc5f289111b"
      },
      "execution_count": 17,
      "outputs": [
        {
          "output_type": "stream",
          "name": "stdout",
          "text": [
            "Found 294 images belonging to 2 classes.\n"
          ]
        }
      ]
    },
    {
      "cell_type": "code",
      "source": [
        "test_set = test_datagen.flow_from_directory(valid_path,\n",
        "                                            target_size = (224, 224),\n",
        "                                            batch_size = 32,\n",
        "                                            class_mode = 'binary')"
      ],
      "metadata": {
        "colab": {
          "base_uri": "https://localhost:8080/"
        },
        "id": "92iRgmyRFLM3",
        "outputId": "6183599c-e75f-4dfd-a59b-25ac343aeeae"
      },
      "execution_count": 18,
      "outputs": [
        {
          "output_type": "stream",
          "name": "stdout",
          "text": [
            "Found 97 images belonging to 2 classes.\n"
          ]
        }
      ]
    },
    {
      "cell_type": "code",
      "source": [
        "history = model.fit(\n",
        "  training_set,\n",
        "  validation_data=test_set,\n",
        "  epochs=20,\n",
        "  steps_per_epoch=len(training_set),\n",
        "  validation_steps=len(test_set)\n",
        ")"
      ],
      "metadata": {
        "colab": {
          "base_uri": "https://localhost:8080/"
        },
        "id": "ixYzK6kWFLKY",
        "outputId": "9c7b4070-70e5-435b-f5e1-eba3e0726138"
      },
      "execution_count": 19,
      "outputs": [
        {
          "output_type": "stream",
          "name": "stderr",
          "text": [
            "/usr/local/lib/python3.11/dist-packages/keras/src/trainers/data_adapters/py_dataset_adapter.py:121: UserWarning: Your `PyDataset` class should call `super().__init__(**kwargs)` in its constructor. `**kwargs` can include `workers`, `use_multiprocessing`, `max_queue_size`. Do not pass these arguments to `fit()`, as they will be ignored.\n",
            "  self._warn_if_super_not_called()\n"
          ]
        },
        {
          "output_type": "stream",
          "name": "stdout",
          "text": [
            "Epoch 1/20\n",
            "\u001b[1m10/10\u001b[0m \u001b[32m━━━━━━━━━━━━━━━━━━━━\u001b[0m\u001b[37m\u001b[0m \u001b[1m16s\u001b[0m 953ms/step - accuracy: 0.5193 - loss: 1.3728 - val_accuracy: 0.4433 - val_loss: 0.7312\n",
            "Epoch 2/20\n",
            "\u001b[1m10/10\u001b[0m \u001b[32m━━━━━━━━━━━━━━━━━━━━\u001b[0m\u001b[37m\u001b[0m \u001b[1m10s\u001b[0m 331ms/step - accuracy: 0.4870 - loss: 0.7027 - val_accuracy: 0.5361 - val_loss: 0.6734\n",
            "Epoch 3/20\n",
            "\u001b[1m10/10\u001b[0m \u001b[32m━━━━━━━━━━━━━━━━━━━━\u001b[0m\u001b[37m\u001b[0m \u001b[1m5s\u001b[0m 366ms/step - accuracy: 0.5277 - loss: 0.7171 - val_accuracy: 0.5979 - val_loss: 0.6704\n",
            "Epoch 4/20\n",
            "\u001b[1m10/10\u001b[0m \u001b[32m━━━━━━━━━━━━━━━━━━━━\u001b[0m\u001b[37m\u001b[0m \u001b[1m5s\u001b[0m 329ms/step - accuracy: 0.6721 - loss: 0.6449 - val_accuracy: 0.6495 - val_loss: 0.6346\n",
            "Epoch 5/20\n",
            "\u001b[1m10/10\u001b[0m \u001b[32m━━━━━━━━━━━━━━━━━━━━\u001b[0m\u001b[37m\u001b[0m \u001b[1m3s\u001b[0m 334ms/step - accuracy: 0.5615 - loss: 0.7192 - val_accuracy: 0.6186 - val_loss: 0.6643\n",
            "Epoch 6/20\n",
            "\u001b[1m10/10\u001b[0m \u001b[32m━━━━━━━━━━━━━━━━━━━━\u001b[0m\u001b[37m\u001b[0m \u001b[1m3s\u001b[0m 327ms/step - accuracy: 0.6581 - loss: 0.6529 - val_accuracy: 0.6392 - val_loss: 0.6300\n",
            "Epoch 7/20\n",
            "\u001b[1m10/10\u001b[0m \u001b[32m━━━━━━━━━━━━━━━━━━━━\u001b[0m\u001b[37m\u001b[0m \u001b[1m5s\u001b[0m 324ms/step - accuracy: 0.7022 - loss: 0.5991 - val_accuracy: 0.6495 - val_loss: 0.6111\n",
            "Epoch 8/20\n",
            "\u001b[1m10/10\u001b[0m \u001b[32m━━━━━━━━━━━━━━━━━━━━\u001b[0m\u001b[37m\u001b[0m \u001b[1m4s\u001b[0m 352ms/step - accuracy: 0.7107 - loss: 0.5502 - val_accuracy: 0.7113 - val_loss: 0.5473\n",
            "Epoch 9/20\n",
            "\u001b[1m10/10\u001b[0m \u001b[32m━━━━━━━━━━━━━━━━━━━━\u001b[0m\u001b[37m\u001b[0m \u001b[1m4s\u001b[0m 354ms/step - accuracy: 0.7246 - loss: 0.5309 - val_accuracy: 0.7113 - val_loss: 0.4930\n",
            "Epoch 10/20\n",
            "\u001b[1m10/10\u001b[0m \u001b[32m━━━━━━━━━━━━━━━━━━━━\u001b[0m\u001b[37m\u001b[0m \u001b[1m4s\u001b[0m 362ms/step - accuracy: 0.8094 - loss: 0.4678 - val_accuracy: 0.7216 - val_loss: 0.5208\n",
            "Epoch 11/20\n",
            "\u001b[1m10/10\u001b[0m \u001b[32m━━━━━━━━━━━━━━━━━━━━\u001b[0m\u001b[37m\u001b[0m \u001b[1m5s\u001b[0m 346ms/step - accuracy: 0.7850 - loss: 0.4957 - val_accuracy: 0.7216 - val_loss: 0.5968\n",
            "Epoch 12/20\n",
            "\u001b[1m10/10\u001b[0m \u001b[32m━━━━━━━━━━━━━━━━━━━━\u001b[0m\u001b[37m\u001b[0m \u001b[1m4s\u001b[0m 372ms/step - accuracy: 0.7564 - loss: 0.5130 - val_accuracy: 0.7320 - val_loss: 0.5340\n",
            "Epoch 13/20\n",
            "\u001b[1m10/10\u001b[0m \u001b[32m━━━━━━━━━━━━━━━━━━━━\u001b[0m\u001b[37m\u001b[0m \u001b[1m4s\u001b[0m 368ms/step - accuracy: 0.7384 - loss: 0.4823 - val_accuracy: 0.7320 - val_loss: 0.5368\n",
            "Epoch 14/20\n",
            "\u001b[1m10/10\u001b[0m \u001b[32m━━━━━━━━━━━━━━━━━━━━\u001b[0m\u001b[37m\u001b[0m \u001b[1m3s\u001b[0m 329ms/step - accuracy: 0.7952 - loss: 0.4354 - val_accuracy: 0.7629 - val_loss: 0.4667\n",
            "Epoch 15/20\n",
            "\u001b[1m10/10\u001b[0m \u001b[32m━━━━━━━━━━━━━━━━━━━━\u001b[0m\u001b[37m\u001b[0m \u001b[1m6s\u001b[0m 423ms/step - accuracy: 0.8276 - loss: 0.3840 - val_accuracy: 0.7629 - val_loss: 0.4686\n",
            "Epoch 16/20\n",
            "\u001b[1m10/10\u001b[0m \u001b[32m━━━━━━━━━━━━━━━━━━━━\u001b[0m\u001b[37m\u001b[0m \u001b[1m3s\u001b[0m 326ms/step - accuracy: 0.7996 - loss: 0.4064 - val_accuracy: 0.7216 - val_loss: 0.5676\n",
            "Epoch 17/20\n",
            "\u001b[1m10/10\u001b[0m \u001b[32m━━━━━━━━━━━━━━━━━━━━\u001b[0m\u001b[37m\u001b[0m \u001b[1m3s\u001b[0m 333ms/step - accuracy: 0.7796 - loss: 0.4747 - val_accuracy: 0.7216 - val_loss: 0.5046\n",
            "Epoch 18/20\n",
            "\u001b[1m10/10\u001b[0m \u001b[32m━━━━━━━━━━━━━━━━━━━━\u001b[0m\u001b[37m\u001b[0m \u001b[1m3s\u001b[0m 329ms/step - accuracy: 0.8209 - loss: 0.4152 - val_accuracy: 0.7423 - val_loss: 0.4767\n",
            "Epoch 19/20\n",
            "\u001b[1m10/10\u001b[0m \u001b[32m━━━━━━━━━━━━━━━━━━━━\u001b[0m\u001b[37m\u001b[0m \u001b[1m4s\u001b[0m 398ms/step - accuracy: 0.8710 - loss: 0.3427 - val_accuracy: 0.7732 - val_loss: 0.4954\n",
            "Epoch 20/20\n",
            "\u001b[1m10/10\u001b[0m \u001b[32m━━━━━━━━━━━━━━━━━━━━\u001b[0m\u001b[37m\u001b[0m \u001b[1m3s\u001b[0m 334ms/step - accuracy: 0.8440 - loss: 0.3559 - val_accuracy: 0.8041 - val_loss: 0.4351\n"
          ]
        }
      ]
    },
    {
      "cell_type": "code",
      "source": [
        "import matplotlib.pyplot as plt\n",
        "# plot the loss\n",
        "plt.plot(history.history['loss'], label='train loss')\n",
        "plt.plot(history.history['val_loss'], label='val loss')\n",
        "plt.legend()\n",
        "plt.show()\n",
        "plt.savefig('LossVal_loss')"
      ],
      "metadata": {
        "colab": {
          "base_uri": "https://localhost:8080/",
          "height": 447
        },
        "id": "8gIvBhTBGPXw",
        "outputId": "749e8c5e-6cb7-4ada-ba1d-e857676e6fab"
      },
      "execution_count": 20,
      "outputs": [
        {
          "output_type": "display_data",
          "data": {
            "text/plain": [
              "<Figure size 640x480 with 1 Axes>"
            ],
            "image/png": "[encoded data removed]"
          },
          "metadata": {}
        },
        {
          "output_type": "display_data",
          "data": {
            "text/plain": [
              "<Figure size 640x480 with 0 Axes>"
            ]
          },
          "metadata": {}
        }
      ]
    },
    {
      "cell_type": "code",
      "source": [
        "# plot the accuracy\n",
        "plt.plot(history.history['accuracy'], label='train acc')\n",
        "plt.plot(history.history['val_accuracy'], label='val acc')\n",
        "plt.legend()\n",
        "plt.show()\n",
        "plt.savefig('AccVal_acc')"
      ],
      "metadata": {
        "colab": {
          "base_uri": "https://localhost:8080/",
          "height": 447
        },
        "id": "o-H01DOIGPUZ",
        "outputId": "068afded-b559-46d1-f8c2-9365de23ac08"
      },
      "execution_count": 21,
      "outputs": [
        {
          "output_type": "display_data",
          "data": {
            "text/plain": [
              "<Figure size 640x480 with 1 Axes>"
            ],
            "image/png": "[encoded data removed]"
          },
          "metadata": {}
        },
        {
          "output_type": "display_data",
          "data": {
            "text/plain": [
              "<Figure size 640x480 with 0 Axes>"
            ]
          },
          "metadata": {}
        }
      ]
    },
    {
      "cell_type": "code",
      "source": [
        "model.evaluate(test_set)"
      ],
      "metadata": {
        "colab": {
          "base_uri": "https://localhost:8080/"
        },
        "id": "4RoSQloNHXgY",
        "outputId": "b9709d35-846e-4b80-895a-80605802ae17"
      },
      "execution_count": 22,
      "outputs": [
        {
          "output_type": "stream",
          "name": "stdout",
          "text": [
            "\u001b[1m4/4\u001b[0m \u001b[32m━━━━━━━━━━━━━━━━━━━━\u001b[0m\u001b[37m\u001b[0m \u001b[1m0s\u001b[0m 40ms/step - accuracy: 0.7914 - loss: 0.4472\n"
          ]
        },
        {
          "output_type": "execute_result",
          "data": {
            "text/plain": [
              "[0.43511277437210083, 0.8041236996650696]"
            ]
          },
          "metadata": {},
          "execution_count": 22
        }
      ]
    },
    {
      "cell_type": "code",
      "source": [
        "model.save('model.h5')"
      ],
      "metadata": {
        "colab": {
          "base_uri": "https://localhost:8080/"
        },
        "id": "7ZFkoBjRHXd4",
        "outputId": "65921f63-58a6-4071-e76e-fd67583cf713"
      },
      "execution_count": 23,
      "outputs": [
        {
          "output_type": "stream",
          "name": "stderr",
          "text": [
            "WARNING:absl:You are saving your model as an HDF5 file via `model.save()` or `keras.saving.save_model(model)`. This file format is considered legacy. We recommend using instead the native Keras format, e.g. `model.save('my_model.keras')` or `keras.saving.save_model(model, 'my_model.keras')`. \n"
          ]
        }
      ]
    },
    {
      "cell_type": "code",
      "source": [
        "from tensorflow.keras.models import load_model"
      ],
      "metadata": {
        "id": "smpqfhli0abg"
      },
      "execution_count": 24,
      "outputs": []
    },
    {
      "cell_type": "code",
      "source": [
        "model = load_model(\"model.h5\")"
      ],
      "metadata": {
        "colab": {
          "base_uri": "https://localhost:8080/"
        },
        "id": "oNWh3uboHXbQ",
        "outputId": "808a8842-00ba-4801-e326-ded2f96b8f61"
      },
      "execution_count": 25,
      "outputs": [
        {
          "output_type": "stream",
          "name": "stderr",
          "text": [
            "WARNING:absl:Compiled the loaded model, but the compiled metrics have yet to be built. `model.compile_metrics` will be empty until you train or evaluate the model.\n"
          ]
        }
      ]
    },
    {
      "cell_type": "code",
      "source": [
        "from tensorflow.keras.preprocessing import image"
      ],
      "metadata": {
        "id": "AFBbjZ_sHXX4"
      },
      "execution_count": 26,
      "outputs": []
    },
    {
      "cell_type": "code",
      "source": [
        "img=image.load_img('/content/img_p1_33.jpeg',target_size=(224,224))"
      ],
      "metadata": {
        "id": "_8tAFIUDHtwo"
      },
      "execution_count": 27,
      "outputs": []
    },
    {
      "cell_type": "code",
      "source": [
        "img"
      ],
      "metadata": {
        "colab": {
          "base_uri": "https://localhost:8080/",
          "height": 241
        },
        "id": "OS08bGmMHtuI",
        "outputId": "e778b739-d3bd-416c-ff6a-9323d001187b"
      },
      "execution_count": 28,
      "outputs": [
        {
          "output_type": "execute_result",
          "data": {
            "text/plain": [
              "<PIL.Image.Image image mode=RGB size=224x224>"
            ],
            "image/png": "[encoded data removed]",
            "image/jpeg": "[encoded data removed]"
          },
          "metadata": {},
          "execution_count": 28
        }
      ]
    },
    {
      "cell_type": "code",
      "source": [
        "import numpy as np"
      ],
      "metadata": {
        "id": "AS4k-H0m1lXY"
      },
      "execution_count": 29,
      "outputs": []
    },
    {
      "cell_type": "code",
      "source": [
        "x=image.img_to_array(img)\n",
        "x=x/255\n",
        "\n",
        "x=np.expand_dims(x,axis=0)\n",
        "output = model.predict(x)\n",
        "print(output)"
      ],
      "metadata": {
        "colab": {
          "base_uri": "https://localhost:8080/"
        },
        "id": "6qtnsBX41gkP",
        "outputId": "da119ef0-ac7e-4685-8fdf-2ee2b69bc134"
      },
      "execution_count": 30,
      "outputs": [
        {
          "output_type": "stream",
          "name": "stdout",
          "text": [
            "\u001b[1m1/1\u001b[0m \u001b[32m━━━━━━━━━━━━━━━━━━━━\u001b[0m\u001b[37m\u001b[0m \u001b[1m0s\u001b[0m 334ms/step\n",
            "[[0.7289499]]\n"
          ]
        }
      ]
    },
    {
      "cell_type": "code",
      "source": [
        "x.shape"
      ],
      "metadata": {
        "colab": {
          "base_uri": "https://localhost:8080/"
        },
        "id": "p7TiDzc83PXJ",
        "outputId": "58b0d531-8e16-4c64-a8b1-e78457121ccc"
      },
      "execution_count": 31,
      "outputs": [
        {
          "output_type": "execute_result",
          "data": {
            "text/plain": [
              "(1, 224, 224, 3)"
            ]
          },
          "metadata": {},
          "execution_count": 31
        }
      ]
    },
    {
      "cell_type": "code",
      "source": [
        "output[0][0]"
      ],
      "metadata": {
        "colab": {
          "base_uri": "https://localhost:8080/"
        },
        "id": "9i4mnOYn24VA",
        "outputId": "97765e50-1bfe-485b-fe59-214290e91522"
      },
      "execution_count": 32,
      "outputs": [
        {
          "output_type": "execute_result",
          "data": {
            "text/plain": [
              "np.float32(0.7289499)"
            ]
          },
          "metadata": {},
          "execution_count": 32
        }
      ]
    },
    {
      "cell_type": "code",
      "source": [
        "if output[0][0] >=0.5:\n",
        "    prediction = 'Tomato'\n",
        "    print(prediction)\n",
        "else:\n",
        "    prediction = 'Apple'\n",
        "    print(prediction)"
      ],
      "metadata": {
        "colab": {
          "base_uri": "https://localhost:8080/"
        },
        "id": "mDxB34vlIN3o",
        "outputId": "76596c3b-27aa-4444-807b-1545dec269a9"
      },
      "execution_count": 33,
      "outputs": [
        {
          "output_type": "stream",
          "name": "stdout",
          "text": [
            "Tomato\n"
          ]
        }
      ]
    },
    {
      "cell_type": "code",
      "source": [
        "!pip install flask flask-ngrok\n"
      ],
      "metadata": {
        "id": "XT4r65SL1Dmn",
        "colab": {
          "base_uri": "https://localhost:8080/"
        },
        "outputId": "c37df8c2-968a-47c4-f41e-259e6ec4baa8"
      },
      "execution_count": 34,
      "outputs": [
        {
          "output_type": "stream",
          "name": "stdout",
          "text": [
            "Requirement already satisfied: flask in /usr/local/lib/python3.11/dist-packages (3.1.1)\n",
            "Collecting flask-ngrok\n",
            "  Downloading flask_ngrok-0.0.25-py3-none-any.whl.metadata (1.8 kB)\n",
            "Requirement already satisfied: blinker>=1.9.0 in /usr/local/lib/python3.11/dist-packages (from flask) (1.9.0)\n",
            "Requirement already satisfied: click>=8.1.3 in /usr/local/lib/python3.11/dist-packages (from flask) (8.2.1)\n",
            "Requirement already satisfied: itsdangerous>=2.2.0 in /usr/local/lib/python3.11/dist-packages (from flask) (2.2.0)\n",
            "Requirement already satisfied: jinja2>=3.1.2 in /usr/local/lib/python3.11/dist-packages (from flask) (3.1.6)\n",
            "Requirement already satisfied: markupsafe>=2.1.1 in /usr/local/lib/python3.11/dist-packages (from flask) (3.0.2)\n",
            "Requirement already satisfied: werkzeug>=3.1.0 in /usr/local/lib/python3.11/dist-packages (from flask) (3.1.3)\n",
            "Requirement already satisfied: requests in /usr/local/lib/python3.11/dist-packages (from flask-ngrok) (2.32.3)\n",
            "Requirement already satisfied: charset-normalizer<4,>=2 in /usr/local/lib/python3.11/dist-packages (from requests->flask-ngrok) (3.4.2)\n",
            "Requirement already satisfied: idna<4,>=2.5 in /usr/local/lib/python3.11/dist-packages (from requests->flask-ngrok) (3.10)\n",
            "Requirement already satisfied: urllib3<3,>=1.21.1 in /usr/local/lib/python3.11/dist-packages (from requests->flask-ngrok) (2.4.0)\n",
            "Requirement already satisfied: certifi>=2017.4.17 in /usr/local/lib/python3.11/dist-packages (from requests->flask-ngrok) (2025.7.14)\n",
            "Downloading flask_ngrok-0.0.25-py3-none-any.whl (3.1 kB)\n",
            "Installing collected packages: flask-ngrok\n",
            "Successfully installed flask-ngrok-0.0.25\n"
          ]
        }
      ]
    },
    {
      "cell_type": "code",
      "source": [
        "from flask import Flask, request, jsonify\n",
        "from flask_ngrok import run_with_ngrok\n",
        "from tensorflow.keras.models import load_model\n",
        "from tensorflow.keras.preprocessing import image\n",
        "import numpy as np\n",
        "import os\n",
        "\n",
        "# Load your trained model\n",
        "model = load_model('/content/model.h5')\n",
        "\n",
        "# Initialize Flask app\n",
        "app = Flask(__name__)\n",
        "run_with_ngrok(app)  # This will use ngrok to expose the app to the internet\n",
        "\n",
        "# Image preprocessing function\n",
        "def prepare_image(img_path):\n",
        "    img = image.load_img(img_path, target_size=(224, 224))  # Resize image to match model's input shape\n",
        "    img_array = image.img_to_array(img)  # Convert image to numpy array\n",
        "    img_array = img_array / 255  # Rescale pixel values\n",
        "    img_array = np.expand_dims(img_array, axis=0)  # Add an extra dimension for batch size (model expects this)\n",
        "    return img_array"
      ],
      "metadata": {
        "colab": {
          "base_uri": "https://localhost:8080/"
        },
        "id": "ffL3TeIlvb9P",
        "outputId": "260af5ee-ac5e-4f42-8c7d-1c9259b64ff0"
      },
      "execution_count": 44,
      "outputs": [
        {
          "output_type": "stream",
          "name": "stderr",
          "text": [
            "WARNING:absl:Compiled the loaded model, but the compiled metrics have yet to be built. `model.compile_metrics` will be empty until you train or evaluate the model.\n"
          ]
        }
      ]
    },
    {
      "cell_type": "code",
      "source": [
        "@app.route('/predict', methods=['POST'])\n",
        "def predict():\n",
        "    if 'file' not in request.files:\n",
        "        return jsonify({\"error\": \"No file part\"}), 400\n",
        "    file = request.files['file']\n",
        "    if file.filename == '':\n",
        "        return jsonify({\"error\": \"No selected file\"}), 400\n",
        "\n",
        "    # Save the uploaded file temporarily\n",
        "    img_path = '/tmp/' + file.filename\n",
        "    file.save(img_path)\n",
        "\n",
        "    # Prepare the image and make prediction\n",
        "    img_array = prepare_image(img_path)\n",
        "    prediction = model.predict(img_array)\n",
        "    if prediction[0][0] >= 0.5:\n",
        "        result = \"Tomato\"\n",
        "    else:\n",
        "        result = \"Apple\"\n",
        "\n",
        "    return jsonify({\"prediction\": result})\n",
        "\n"
      ],
      "metadata": {
        "id": "Y03Y5vzUvb61"
      },
      "execution_count": 45,
      "outputs": []
    },
    {
      "cell_type": "code",
      "source": [
        "# Run the Flask app\n",
        "if __name__ == \"__main__\":\n",
        "    app.run()"
      ],
      "metadata": {
        "colab": {
          "base_uri": "https://localhost:8080/"
        },
        "id": "GENwHZHDvb4F",
        "outputId": "a6060d8e-6974-4f75-c385-adabf9e93536"
      },
      "execution_count": 46,
      "outputs": [
        {
          "output_type": "stream",
          "name": "stdout",
          "text": [
            " * Serving Flask app '__main__'\n",
            " * Debug mode: off\n"
          ]
        },
        {
          "output_type": "stream",
          "name": "stderr",
          "text": [
            "INFO:werkzeug:\u001b[31m\u001b[1mWARNING: This is a development server. Do not use it in a production deployment. Use a production WSGI server instead.\u001b[0m\n",
            " * Running on http://127.0.0.1:5000\n",
            "INFO:werkzeug:\u001b[33mPress CTRL+C to quit\u001b[0m\n",
            "Exception in thread Thread-22:\n",
            "Traceback (most recent call last):\n",
            "  File \"/usr/local/lib/python3.11/dist-packages/urllib3/connection.py\", line 198, in _new_conn\n",
            "    sock = connection.create_connection(\n",
            "           ^^^^^^^^^^^^^^^^^^^^^^^^^^^^^\n",
            "  File \"/usr/local/lib/python3.11/dist-packages/urllib3/util/connection.py\", line 85, in create_connection\n",
            "    raise err\n",
            "  File \"/usr/local/lib/python3.11/dist-packages/urllib3/util/connection.py\", line 73, in create_connection\n",
            "    sock.connect(sa)\n",
            "ConnectionRefusedError: [Errno 111] Connection refused\n",
            "\n",
            "The above exception was the direct cause of the following exception:\n",
            "\n",
            "Traceback (most recent call last):\n",
            "  File \"/usr/local/lib/python3.11/dist-packages/urllib3/connectionpool.py\", line 787, in urlopen\n",
            "    response = self._make_request(\n",
            "               ^^^^^^^^^^^^^^^^^^^\n",
            "  File \"/usr/local/lib/python3.11/dist-packages/urllib3/connectionpool.py\", line 493, in _make_request\n",
            "    conn.request(\n",
            "  File \"/usr/local/lib/python3.11/dist-packages/urllib3/connection.py\", line 445, in request\n",
            "    self.endheaders()\n",
            "  File \"/usr/lib/python3.11/http/client.py\", line 1298, in endheaders\n",
            "    self._send_output(message_body, encode_chunked=encode_chunked)\n",
            "  File \"/usr/lib/python3.11/http/client.py\", line 1058, in _send_output\n",
            "    self.send(msg)\n",
            "  File \"/usr/lib/python3.11/http/client.py\", line 996, in send\n",
            "    self.connect()\n",
            "  File \"/usr/local/lib/python3.11/dist-packages/urllib3/connection.py\", line 276, in connect\n",
            "    self.sock = self._new_conn()\n",
            "                ^^^^^^^^^^^^^^^^\n",
            "  File \"/usr/local/lib/python3.11/dist-packages/urllib3/connection.py\", line 213, in _new_conn\n",
            "    raise NewConnectionError(\n",
            "urllib3.exceptions.NewConnectionError: <urllib3.connection.HTTPConnection object at 0x7f730c447650>: Failed to establish a new connection: [Errno 111] Connection refused\n",
            "\n",
            "The above exception was the direct cause of the following exception:\n",
            "\n",
            "Traceback (most recent call last):\n",
            "  File \"/usr/local/lib/python3.11/dist-packages/requests/adapters.py\", line 667, in send\n",
            "    resp = conn.urlopen(\n",
            "           ^^^^^^^^^^^^^\n",
            "  File \"/usr/local/lib/python3.11/dist-packages/urllib3/connectionpool.py\", line 841, in urlopen\n",
            "    retries = retries.increment(\n",
            "              ^^^^^^^^^^^^^^^^^^\n",
            "  File \"/usr/local/lib/python3.11/dist-packages/urllib3/util/retry.py\", line 519, in increment\n",
            "    raise MaxRetryError(_pool, url, reason) from reason  # type: ignore[arg-type]\n",
            "    ^^^^^^^^^^^^^^^^^^^^^^^^^^^^^^^^^^^^^^^^^^^^^^^^^^^\n",
            "urllib3.exceptions.MaxRetryError: HTTPConnectionPool(host='localhost', port=4040): Max retries exceeded with url: /api/tunnels (Caused by NewConnectionError('<urllib3.connection.HTTPConnection object at 0x7f730c447650>: Failed to establish a new connection: [Errno 111] Connection refused'))\n",
            "\n",
            "During handling of the above exception, another exception occurred:\n",
            "\n",
            "Traceback (most recent call last):\n",
            "  File \"/usr/lib/python3.11/threading.py\", line 1045, in _bootstrap_inner\n",
            "    self.run()\n",
            "  File \"/usr/lib/python3.11/threading.py\", line 1401, in run\n",
            "    self.function(*self.args, **self.kwargs)\n",
            "  File \"/usr/local/lib/python3.11/dist-packages/flask_ngrok.py\", line 70, in start_ngrok\n",
            "    ngrok_address = _run_ngrok()\n",
            "                    ^^^^^^^^^^^^\n",
            "  File \"/usr/local/lib/python3.11/dist-packages/flask_ngrok.py\", line 35, in _run_ngrok\n",
            "    tunnel_url = requests.get(localhost_url).text  # Get the tunnel information\n",
            "                 ^^^^^^^^^^^^^^^^^^^^^^^^^^^\n",
            "  File \"/usr/local/lib/python3.11/dist-packages/requests/api.py\", line 73, in get\n",
            "    return request(\"get\", url, params=params, **kwargs)\n",
            "           ^^^^^^^^^^^^^^^^^^^^^^^^^^^^^^^^^^^^^^^^^^^^\n",
            "  File \"/usr/local/lib/python3.11/dist-packages/requests/api.py\", line 59, in request\n",
            "    return session.request(method=method, url=url, **kwargs)\n",
            "           ^^^^^^^^^^^^^^^^^^^^^^^^^^^^^^^^^^^^^^^^^^^^^^^^^\n",
            "  File \"/usr/local/lib/python3.11/dist-packages/requests/sessions.py\", line 589, in request\n",
            "    resp = self.send(prep, **send_kwargs)\n",
            "           ^^^^^^^^^^^^^^^^^^^^^^^^^^^^^^\n",
            "  File \"/usr/local/lib/python3.11/dist-packages/requests/sessions.py\", line 703, in send\n",
            "    r = adapter.send(request, **kwargs)\n",
            "        ^^^^^^^^^^^^^^^^^^^^^^^^^^^^^^^\n",
            "  File \"/usr/local/lib/python3.11/dist-packages/requests/adapters.py\", line 700, in send\n",
            "    raise ConnectionError(e, request=request)\n",
            "requests.exceptions.ConnectionError: HTTPConnectionPool(host='localhost', port=4040): Max retries exceeded with url: /api/tunnels (Caused by NewConnectionError('<urllib3.connection.HTTPConnection object at 0x7f730c447650>: Failed to establish a new connection: [Errno 111] Connection refused'))\n"
          ]
        }
      ]
    },
    {
      "cell_type": "code",
      "source": [],
      "metadata": {
        "id": "wW4vlz_svbyS"
      },
      "execution_count": null,
      "outputs": []
    }
  ]
}